{
 "cells": [
  {
   "cell_type": "markdown",
   "metadata": {},
   "source": [
    "# Testing steps"
   ]
  },
  {
   "cell_type": "code",
   "execution_count": 11,
   "metadata": {},
   "outputs": [],
   "source": [
    "import pandas as pd\n",
    "from sklearn.preprocessing import LabelEncoder"
   ]
  },
  {
   "cell_type": "code",
   "execution_count": 23,
   "metadata": {},
   "outputs": [],
   "source": [
    "df=pd.read_csv('test.csv')"
   ]
  },
  {
   "cell_type": "code",
   "execution_count": 3,
   "metadata": {},
   "outputs": [
    {
     "name": "stdout",
     "output_type": "stream",
     "text": [
      "     Id  MSSubClass MSZoning  LotFrontage  LotArea Street Alley LotShape LandContour Utilities LotConfig LandSlope Neighborhood Condition1 Condition2 BldgType HouseStyle  OverallQual  OverallCond  YearBuilt  YearRemodAdd RoofStyle RoofMatl Exterior1st Exterior2nd MasVnrType  MasVnrArea ExterQual ExterCond Foundation BsmtQual BsmtCond BsmtExposure BsmtFinType1  BsmtFinSF1 BsmtFinType2  BsmtFinSF2  BsmtUnfSF  TotalBsmtSF Heating HeatingQC CentralAir Electrical  1stFlrSF  2ndFlrSF  LowQualFinSF  GrLivArea  BsmtFullBath  BsmtHalfBath  FullBath  HalfBath  BedroomAbvGr  KitchenAbvGr KitchenQual  TotRmsAbvGrd Functional  Fireplaces FireplaceQu GarageType  GarageYrBlt GarageFinish  GarageCars  GarageArea GarageQual GarageCond PavedDrive  WoodDeckSF  OpenPorchSF  EnclosedPorch  3SsnPorch  ScreenPorch  PoolArea PoolQC  Fence MiscFeature  MiscVal  MoSold  YrSold SaleType SaleCondition\n",
      "0  1461          20       RH         80.0    11622   Pave   NaN      Reg         Lvl    AllPub    Inside       Gtl        NAmes      Feedr       Norm     1Fam     1Story            5            6       1961          1961     Gable  CompShg     VinylSd     VinylSd        NaN         0.0        TA        TA     CBlock       TA       TA           No          Rec       468.0          LwQ       144.0      270.0        882.0    GasA        TA          Y      SBrkr       896         0             0        896           0.0           0.0         1         0             2             1          TA             5        Typ           0         NaN     Attchd       1961.0          Unf         1.0       730.0         TA         TA          Y         140            0              0          0          120         0    NaN  MnPrv         NaN        0       6    2010       WD        Normal\n",
      "1  1462          20       RL         81.0    14267   Pave   NaN      IR1         Lvl    AllPub    Corner       Gtl        NAmes       Norm       Norm     1Fam     1Story            6            6       1958          1958       Hip  CompShg     Wd Sdng     Wd Sdng    BrkFace       108.0        TA        TA     CBlock       TA       TA           No          ALQ       923.0          Unf         0.0      406.0       1329.0    GasA        TA          Y      SBrkr      1329         0             0       1329           0.0           0.0         1         1             3             1          Gd             6        Typ           0         NaN     Attchd       1958.0          Unf         1.0       312.0         TA         TA          Y         393           36              0          0            0         0    NaN    NaN        Gar2    12500       6    2010       WD        Normal\n",
      "2  1463          60       RL         74.0    13830   Pave   NaN      IR1         Lvl    AllPub    Inside       Gtl      Gilbert       Norm       Norm     1Fam     2Story            5            5       1997          1998     Gable  CompShg     VinylSd     VinylSd        NaN         0.0        TA        TA      PConc       Gd       TA           No          GLQ       791.0          Unf         0.0      137.0        928.0    GasA        Gd          Y      SBrkr       928       701             0       1629           0.0           0.0         2         1             3             1          TA             6        Typ           1          TA     Attchd       1997.0          Fin         2.0       482.0         TA         TA          Y         212           34              0          0            0         0    NaN  MnPrv         NaN        0       3    2010       WD        Normal\n",
      "3  1464          60       RL         78.0     9978   Pave   NaN      IR1         Lvl    AllPub    Inside       Gtl      Gilbert       Norm       Norm     1Fam     2Story            6            6       1998          1998     Gable  CompShg     VinylSd     VinylSd    BrkFace        20.0        TA        TA      PConc       TA       TA           No          GLQ       602.0          Unf         0.0      324.0        926.0    GasA        Ex          Y      SBrkr       926       678             0       1604           0.0           0.0         2         1             3             1          Gd             7        Typ           1          Gd     Attchd       1998.0          Fin         2.0       470.0         TA         TA          Y         360           36              0          0            0         0    NaN    NaN         NaN        0       6    2010       WD        Normal\n",
      "4  1465         120       RL         43.0     5005   Pave   NaN      IR1         HLS    AllPub    Inside       Gtl      StoneBr       Norm       Norm   TwnhsE     1Story            8            5       1992          1992     Gable  CompShg     HdBoard     HdBoard        NaN         0.0        Gd        TA      PConc       Gd       TA           No          ALQ       263.0          Unf         0.0     1017.0       1280.0    GasA        Ex          Y      SBrkr      1280         0             0       1280           0.0           0.0         2         0             2             1          Gd             5        Typ           0         NaN     Attchd       1992.0          RFn         2.0       506.0         TA         TA          Y           0           82              0          0          144         0    NaN    NaN         NaN        0       1    2010       WD        Normal\n",
      "5  1466          60       RL         75.0    10000   Pave   NaN      IR1         Lvl    AllPub    Corner       Gtl      Gilbert       Norm       Norm     1Fam     2Story            6            5       1993          1994     Gable  CompShg     HdBoard     HdBoard        NaN         0.0        TA        TA      PConc       Gd       TA           No          Unf         0.0          Unf         0.0      763.0        763.0    GasA        Gd          Y      SBrkr       763       892             0       1655           0.0           0.0         2         1             3             1          TA             7        Typ           1          TA     Attchd       1993.0          Fin         2.0       440.0         TA         TA          Y         157           84              0          0            0         0    NaN    NaN         NaN        0       4    2010       WD        Normal\n",
      "6  1467          20       RL          NaN     7980   Pave   NaN      IR1         Lvl    AllPub    Inside       Gtl      Gilbert       Norm       Norm     1Fam     1Story            6            7       1992          2007     Gable  CompShg     HdBoard     HdBoard        NaN         0.0        TA        Gd      PConc       Gd       TA           No          ALQ       935.0          Unf         0.0      233.0       1168.0    GasA        Ex          Y      SBrkr      1187         0             0       1187           1.0           0.0         2         0             3             1          TA             6        Typ           0         NaN     Attchd       1992.0          Fin         2.0       420.0         TA         TA          Y         483           21              0          0            0         0    NaN  GdPrv        Shed      500       3    2010       WD        Normal\n",
      "7  1468          60       RL         63.0     8402   Pave   NaN      IR1         Lvl    AllPub    Inside       Gtl      Gilbert       Norm       Norm     1Fam     2Story            6            5       1998          1998     Gable  CompShg     VinylSd     VinylSd        NaN         0.0        TA        TA      PConc       Gd       TA           No          Unf         0.0          Unf         0.0      789.0        789.0    GasA        Gd          Y      SBrkr       789       676             0       1465           0.0           0.0         2         1             3             1          TA             7        Typ           1          Gd     Attchd       1998.0          Fin         2.0       393.0         TA         TA          Y           0           75              0          0            0         0    NaN    NaN         NaN        0       5    2010       WD        Normal\n",
      "8  1469          20       RL         85.0    10176   Pave   NaN      Reg         Lvl    AllPub    Inside       Gtl      Gilbert       Norm       Norm     1Fam     1Story            7            5       1990          1990     Gable  CompShg     HdBoard     HdBoard        NaN         0.0        TA        TA      PConc       Gd       TA           Gd          GLQ       637.0          Unf         0.0      663.0       1300.0    GasA        Gd          Y      SBrkr      1341         0             0       1341           1.0           0.0         1         1             2             1          Gd             5        Typ           1          Po     Attchd       1990.0          Unf         2.0       506.0         TA         TA          Y         192            0              0          0            0         0    NaN    NaN         NaN        0       2    2010       WD        Normal\n",
      "9  1470          20       RL         70.0     8400   Pave   NaN      Reg         Lvl    AllPub    Corner       Gtl        NAmes       Norm       Norm     1Fam     1Story            4            5       1970          1970     Gable  CompShg     Plywood     Plywood        NaN         0.0        TA        TA     CBlock       TA       TA           No          ALQ       804.0          Rec        78.0        0.0        882.0    GasA        TA          Y      SBrkr       882         0             0        882           1.0           0.0         1         0             2             1          TA             4        Typ           0         NaN     Attchd       1970.0          Fin         2.0       525.0         TA         TA          Y         240            0              0          0            0         0    NaN  MnPrv         NaN        0       4    2010       WD        Normal\n"
     ]
    }
   ],
   "source": [
    "x=df.head(10)\n",
    "print(x.to_string())"
   ]
  },
  {
   "cell_type": "markdown",
   "metadata": {},
   "source": [
    "## Remove unneccossry cols"
   ]
  },
  {
   "cell_type": "code",
   "execution_count": 4,
   "metadata": {},
   "outputs": [
    {
     "name": "stdout",
     "output_type": "stream",
     "text": [
      "dropped\n"
     ]
    }
   ],
   "source": [
    "list_col=[\"Id\",\"MSSubClass\",'Street','Alley','LandContour','Utilities','LandSlope','Neighborhood','Condition1','Condition2','MasVnrType','FireplaceQu','PavedDrive','3SsnPorch','ScreenPorch','PoolArea','PoolQC','Fence','MiscFeature','MiscVal','MoSold']\n",
    "for i in list_col:\n",
    "    df.drop(i,axis=1,inplace=True)\n",
    "print(\"dropped\")"
   ]
  },
  {
   "cell_type": "code",
   "execution_count": 5,
   "metadata": {},
   "outputs": [],
   "source": [
    "df['LotFrontage']=df['LotFrontage'].fillna(df['LotFrontage'].mean())"
   ]
  },
  {
   "cell_type": "code",
   "execution_count": 6,
   "metadata": {},
   "outputs": [],
   "source": [
    "df['BsmtQual']=df['BsmtQual'].fillna(df['BsmtQual'].mode()[0])\n"
   ]
  },
  {
   "cell_type": "code",
   "execution_count": 7,
   "metadata": {},
   "outputs": [],
   "source": [
    "df['MasVnrArea']=df['MasVnrArea'].fillna(df['MasVnrArea'].mode()[0])"
   ]
  },
  {
   "cell_type": "code",
   "execution_count": 8,
   "metadata": {},
   "outputs": [
    {
     "name": "stdout",
     "output_type": "stream",
     "text": [
      "applied mode\n"
     ]
    }
   ],
   "source": [
    "mode_col=['ExterQual','BsmtCond','BsmtExposure','BsmtFinType1','BsmtFinType2','Electrical','GarageType','GarageYrBlt','GarageFinish','GarageQual','GarageCond']\n",
    "for i in mode_col:\n",
    "    df[i]=df[i].fillna(df[i].mode()[0])\n",
    "print(\"applied mode\")"
   ]
  },
  {
   "cell_type": "code",
   "execution_count": 9,
   "metadata": {},
   "outputs": [
    {
     "name": "stdout",
     "output_type": "stream",
     "text": [
      "converted\n"
     ]
    }
   ],
   "source": [
    "float_col=['LotFrontage','MasVnrArea','GarageYrBlt']\n",
    "for i in float_col:\n",
    "    df[i]=df[i].astype('int64')\n",
    "print(\"converted\")"
   ]
  },
  {
   "cell_type": "code",
   "execution_count": 10,
   "metadata": {},
   "outputs": [
    {
     "name": "stdout",
     "output_type": "stream",
     "text": [
      "['MSZoning', 'LotShape', 'LotConfig', 'BldgType', 'HouseStyle', 'RoofStyle', 'RoofMatl', 'Exterior1st', 'Exterior2nd', 'ExterQual', 'ExterCond', 'Foundation', 'BsmtQual', 'BsmtCond', 'BsmtExposure', 'BsmtFinType1', 'BsmtFinType2', 'Heating', 'HeatingQC', 'CentralAir', 'Electrical', 'KitchenQual', 'Functional', 'GarageType', 'GarageFinish', 'GarageQual', 'GarageCond', 'SaleType', 'SaleCondition']\n"
     ]
    }
   ],
   "source": [
    "object_cols=df.select_dtypes(include='object').columns.tolist()\n",
    "print(object_cols)"
   ]
  },
  {
   "cell_type": "code",
   "execution_count": 12,
   "metadata": {},
   "outputs": [
    {
     "name": "stdout",
     "output_type": "stream",
     "text": [
      "converted in obj to int\n"
     ]
    }
   ],
   "source": [
    "object_list=['MSZoning', 'LotShape', 'LotConfig', 'BldgType', 'HouseStyle', 'RoofStyle', 'RoofMatl', 'Exterior1st', 'Exterior2nd', 'ExterQual', 'ExterCond', 'Foundation', 'BsmtQual', 'BsmtCond', 'BsmtExposure', 'BsmtFinType1', 'BsmtFinType2', 'Heating', 'HeatingQC', 'CentralAir', 'Electrical', 'KitchenQual', 'Functional', 'GarageType', 'GarageFinish', 'GarageQual', 'GarageCond', 'SaleType', 'SaleCondition']\n",
    "for i in object_list:\n",
    "    D_labelencoder=LabelEncoder()\n",
    "    df[i]=D_labelencoder.fit_transform(df[i])\n",
    "print('converted in obj to int')"
   ]
  },
  {
   "cell_type": "code",
   "execution_count": 17,
   "metadata": {},
   "outputs": [
    {
     "name": "stdout",
     "output_type": "stream",
     "text": [
      "['BsmtFinSF1', 'BsmtFinSF2', 'BsmtUnfSF', 'TotalBsmtSF', 'BsmtFullBath', 'BsmtHalfBath', 'GarageCars', 'GarageArea']\n"
     ]
    }
   ],
   "source": [
    "flt_col=df.select_dtypes(include='float64').columns.tolist()\n",
    "print(flt_col)\n"
   ]
  },
  {
   "cell_type": "code",
   "execution_count": 25,
   "metadata": {},
   "outputs": [],
   "source": [
    "cl=['BsmtFinSF1', 'BsmtFinSF2', 'BsmtUnfSF', 'TotalBsmtSF', 'BsmtFullBath', 'BsmtHalfBath', 'GarageCars', 'GarageArea']\n",
    "\n",
    "for i in cl:\n",
    "    df[i] = df[i].fillna(df[i].mean())\n",
    "    "
   ]
  },
  {
   "cell_type": "code",
   "execution_count": 26,
   "metadata": {},
   "outputs": [
    {
     "name": "stdout",
     "output_type": "stream",
     "text": [
      "converted\n"
     ]
    }
   ],
   "source": [
    "flt_cl=['BsmtFinSF1', 'BsmtFinSF2', 'BsmtUnfSF', 'TotalBsmtSF', 'BsmtFullBath', 'BsmtHalfBath', 'GarageCars', 'GarageArea']\n",
    "for i in flt_cl:\n",
    "    df[i]=df[i].astype('int64')\n",
    "print(\"converted\")"
   ]
  },
  {
   "cell_type": "code",
   "execution_count": 27,
   "metadata": {},
   "outputs": [],
   "source": [
    "df.to_csv('test.csv',index=False)"
   ]
  },
  {
   "cell_type": "code",
   "execution_count": 28,
   "metadata": {},
   "outputs": [
    {
     "name": "stdout",
     "output_type": "stream",
     "text": [
      "   MSZoning  LotFrontage  LotArea  LotShape  LotConfig  BldgType  HouseStyle  OverallQual  OverallCond  YearBuilt  YearRemodAdd  RoofStyle  RoofMatl  Exterior1st  Exterior2nd  MasVnrArea  ExterQual  ExterCond  Foundation  BsmtQual  BsmtCond  BsmtExposure  BsmtFinType1  BsmtFinSF1  BsmtFinType2  BsmtFinSF2  BsmtUnfSF  TotalBsmtSF  Heating  HeatingQC  CentralAir  Electrical  1stFlrSF  2ndFlrSF  LowQualFinSF  GrLivArea  BsmtFullBath  BsmtHalfBath  FullBath  HalfBath  BedroomAbvGr  KitchenAbvGr  KitchenQual  TotRmsAbvGrd  Functional  Fireplaces  GarageType  GarageYrBlt  GarageFinish  GarageCars  GarageArea  GarageQual  GarageCond  WoodDeckSF  OpenPorchSF  EnclosedPorch  YrSold  SaleType  SaleCondition\n",
      "0         2           80    11622         3          4         0           2            5            6       1961          1961          1         0           10           12           0          3          4           1         3         3             3             4         468             3         144        270          882        0          4           1           3       896         0             0        896             0             0         1         0             2             1            3             5           6           0           1         1961             2           1         730           3           4         140            0              0    2010         8              4\n",
      "1         3           81    14267         0          0         0           2            6            6       1958          1958          3         0           11           13         108          3          4           1         3         3             3             0         923             5           0        406         1329        0          4           1           3      1329         0             0       1329             0             0         1         1             3             1            2             6           6           0           1         1958             2           1         312           3           4         393           36              0    2010         8              4\n",
      "2         3           74    13830         0          4         0           4            5            5       1997          1998          1         0           10           12           0          3          4           2         2         3             3             2         791             5           0        137          928        0          2           1           3       928       701             0       1629             0             0         2         1             3             1            3             6           6           1           1         1997             0           2         482           3           4         212           34              0    2010         8              4\n",
      "3         3           78     9978         0          4         0           4            6            6       1998          1998          1         0           10           12          20          3          4           2         3         3             3             2         602             5           0        324          926        0          0           1           3       926       678             0       1604             0             0         2         1             3             1            2             7           6           1           1         1998             0           2         470           3           4         360           36              0    2010         8              4\n",
      "4         3           43     5005         0          4         4           2            8            5       1992          1992          1         0            6            6           0          2          4           2         2         3             3             0         263             5           0       1017         1280        0          0           1           3      1280         0             0       1280             0             0         2         0             2             1            2             5           6           0           1         1992             1           2         506           3           4           0           82              0    2010         8              4\n"
     ]
    }
   ],
   "source": [
    "x=df.head(5)\n",
    "print(x.to_string())"
   ]
  },
  {
   "cell_type": "code",
   "execution_count": 29,
   "metadata": {},
   "outputs": [
    {
     "name": "stdout",
     "output_type": "stream",
     "text": [
      "<class 'pandas.core.frame.DataFrame'>\n",
      "RangeIndex: 1459 entries, 0 to 1458\n",
      "Data columns (total 59 columns):\n",
      " #   Column         Non-Null Count  Dtype\n",
      "---  ------         --------------  -----\n",
      " 0   MSZoning       1459 non-null   int64\n",
      " 1   LotFrontage    1459 non-null   int64\n",
      " 2   LotArea        1459 non-null   int64\n",
      " 3   LotShape       1459 non-null   int64\n",
      " 4   LotConfig      1459 non-null   int64\n",
      " 5   BldgType       1459 non-null   int64\n",
      " 6   HouseStyle     1459 non-null   int64\n",
      " 7   OverallQual    1459 non-null   int64\n",
      " 8   OverallCond    1459 non-null   int64\n",
      " 9   YearBuilt      1459 non-null   int64\n",
      " 10  YearRemodAdd   1459 non-null   int64\n",
      " 11  RoofStyle      1459 non-null   int64\n",
      " 12  RoofMatl       1459 non-null   int64\n",
      " 13  Exterior1st    1459 non-null   int64\n",
      " 14  Exterior2nd    1459 non-null   int64\n",
      " 15  MasVnrArea     1459 non-null   int64\n",
      " 16  ExterQual      1459 non-null   int64\n",
      " 17  ExterCond      1459 non-null   int64\n",
      " 18  Foundation     1459 non-null   int64\n",
      " 19  BsmtQual       1459 non-null   int64\n",
      " 20  BsmtCond       1459 non-null   int64\n",
      " 21  BsmtExposure   1459 non-null   int64\n",
      " 22  BsmtFinType1   1459 non-null   int64\n",
      " 23  BsmtFinSF1     1459 non-null   int64\n",
      " 24  BsmtFinType2   1459 non-null   int64\n",
      " 25  BsmtFinSF2     1459 non-null   int64\n",
      " 26  BsmtUnfSF      1459 non-null   int64\n",
      " 27  TotalBsmtSF    1459 non-null   int64\n",
      " 28  Heating        1459 non-null   int64\n",
      " 29  HeatingQC      1459 non-null   int64\n",
      " 30  CentralAir     1459 non-null   int64\n",
      " 31  Electrical     1459 non-null   int64\n",
      " 32  1stFlrSF       1459 non-null   int64\n",
      " 33  2ndFlrSF       1459 non-null   int64\n",
      " 34  LowQualFinSF   1459 non-null   int64\n",
      " 35  GrLivArea      1459 non-null   int64\n",
      " 36  BsmtFullBath   1459 non-null   int64\n",
      " 37  BsmtHalfBath   1459 non-null   int64\n",
      " 38  FullBath       1459 non-null   int64\n",
      " 39  HalfBath       1459 non-null   int64\n",
      " 40  BedroomAbvGr   1459 non-null   int64\n",
      " 41  KitchenAbvGr   1459 non-null   int64\n",
      " 42  KitchenQual    1459 non-null   int64\n",
      " 43  TotRmsAbvGrd   1459 non-null   int64\n",
      " 44  Functional     1459 non-null   int64\n",
      " 45  Fireplaces     1459 non-null   int64\n",
      " 46  GarageType     1459 non-null   int64\n",
      " 47  GarageYrBlt    1459 non-null   int64\n",
      " 48  GarageFinish   1459 non-null   int64\n",
      " 49  GarageCars     1459 non-null   int64\n",
      " 50  GarageArea     1459 non-null   int64\n",
      " 51  GarageQual     1459 non-null   int64\n",
      " 52  GarageCond     1459 non-null   int64\n",
      " 53  WoodDeckSF     1459 non-null   int64\n",
      " 54  OpenPorchSF    1459 non-null   int64\n",
      " 55  EnclosedPorch  1459 non-null   int64\n",
      " 56  YrSold         1459 non-null   int64\n",
      " 57  SaleType       1459 non-null   int64\n",
      " 58  SaleCondition  1459 non-null   int64\n",
      "dtypes: int64(59)\n",
      "memory usage: 672.6 KB\n"
     ]
    }
   ],
   "source": [
    "df.info()"
   ]
  },
  {
   "cell_type": "code",
   "execution_count": 21,
   "metadata": {},
   "outputs": [
    {
     "name": "stdout",
     "output_type": "stream",
     "text": [
      "Number of Rows: 1459 \n",
      "Number of Columns: 59\n"
     ]
    }
   ],
   "source": [
    "print(f\"Number of Rows: {df.shape[0]} \\nNumber of Columns: {df.shape[1]}\")"
   ]
  },
  {
   "cell_type": "code",
   "execution_count": null,
   "metadata": {},
   "outputs": [],
   "source": []
  }
 ],
 "metadata": {
  "kernelspec": {
   "display_name": "Python 3",
   "language": "python",
   "name": "python3"
  },
  "language_info": {
   "codemirror_mode": {
    "name": "ipython",
    "version": 3
   },
   "file_extension": ".py",
   "mimetype": "text/x-python",
   "name": "python",
   "nbconvert_exporter": "python",
   "pygments_lexer": "ipython3",
   "version": "3.12.9"
  }
 },
 "nbformat": 4,
 "nbformat_minor": 2
}
