{
 "cells": [
  {
   "cell_type": "code",
   "execution_count": 2,
   "metadata": {},
   "outputs": [],
   "source": [
    "import cv2\n",
    "import numpy as np\n",
    "import matplotlib.pyplot as plt"
   ]
  },
  {
   "cell_type": "code",
   "execution_count": 6,
   "metadata": {},
   "outputs": [
    {
     "data": {
      "text/plain": [
       "(768, 1366, 3)"
      ]
     },
     "execution_count": 6,
     "metadata": {},
     "output_type": "execute_result"
    }
   ],
   "source": [
    "img=cv2.imread('bmw2.png',cv2.IMREAD_COLOR)\n",
    "img.shape"
   ]
  },
  {
   "cell_type": "markdown",
   "metadata": {},
   "source": [
    "# Python code to read image"
   ]
  },
  {
   "cell_type": "code",
   "execution_count": null,
   "metadata": {},
   "outputs": [],
   "source": [
    "\n",
    "img=cv2.imread('bmw2.png',cv2.IMREAD_COLOR)\n",
    "cv2.imshow('image',img)\n",
    "cv2.waitKey(0)\n",
    "cv2.destroyAllWindows()"
   ]
  },
  {
   "cell_type": "markdown",
   "metadata": {},
   "source": [
    "### Displaying image using plt.imshow() method"
   ]
  },
  {
   "cell_type": "code",
   "execution_count": null,
   "metadata": {},
   "outputs": [],
   "source": [
    "img=cv2.imread(\"bmw2.png\",cv2.IMREAD_COLOR)\n",
    "plt.imshow(img)\n",
    "plt.waitforbuttonpress()\n",
    "plt.close('all')"
   ]
  },
  {
   "cell_type": "markdown",
   "metadata": {},
   "source": [
    "### Converting BGR color to RGB color format"
   ]
  },
  {
   "cell_type": "code",
   "execution_count": null,
   "metadata": {},
   "outputs": [],
   "source": [
    "img=cv2.imread(\"bmw2.png\")\n",
    "RGB_img=cv2.cvtColor(img,cv2.COLOR_BGR2RGB)\n",
    "plt.imshow(RGB_img)\n",
    "plt.waitforbuttonpress()\n",
    "plt.close('all')"
   ]
  },
  {
   "cell_type": "markdown",
   "metadata": {},
   "source": [
    "### Using 0 to read image in grayscale mode "
   ]
  },
  {
   "cell_type": "code",
   "execution_count": null,
   "metadata": {},
   "outputs": [],
   "source": [
    "img=cv2.imread(\"bmw2.png\",cv2.IMREAD_GRAYSCALE)\n",
    "\n",
    "plt.imshow(img)\n",
    "plt.waitforbuttonpress()\n",
    "plt.close('all')"
   ]
  },
  {
   "cell_type": "markdown",
   "metadata": {},
   "source": [
    "### shape of the grayscale image"
   ]
  },
  {
   "cell_type": "code",
   "execution_count": 5,
   "metadata": {},
   "outputs": [
    {
     "data": {
      "text/plain": [
       "(768, 1366)"
      ]
     },
     "execution_count": 5,
     "metadata": {},
     "output_type": "execute_result"
    }
   ],
   "source": [
    "img=cv2.imread(\"bmw2.png\",cv2.IMREAD_GRAYSCALE)\n",
    "img.shape"
   ]
  },
  {
   "cell_type": "markdown",
   "metadata": {},
   "source": [
    "### save imgs"
   ]
  },
  {
   "cell_type": "code",
   "execution_count": null,
   "metadata": {},
   "outputs": [],
   "source": [
    "img=cv2.imread('bmw2.jpg')\n",
    "#save image\n",
    "cv2.imwrite(\"bmw1.jpg\",img)"
   ]
  },
  {
   "cell_type": "markdown",
   "metadata": {},
   "source": [
    "###  set image quality with cv2.imwrite()"
   ]
  },
  {
   "cell_type": "code",
   "execution_count": null,
   "metadata": {},
   "outputs": [],
   "source": [
    "img=cv2.imread('bmw2.png')\n",
    "cv2.imwrite('image.jpg',img,[cv2.IMWRITE_JPEG_QUALITY,90])"
   ]
  },
  {
   "cell_type": "markdown",
   "metadata": {},
   "source": [
    "### Visualizing the different color channels of an RGB image. "
   ]
  },
  {
   "cell_type": "code",
   "execution_count": null,
   "metadata": {},
   "outputs": [],
   "source": [
    "image = cv2.imread('image.jpg') \n",
    "B, G, R = cv2.split(image) \n",
    "\n",
    "\n",
    "cv2.imshow(\"original\", image) \n",
    "cv2.waitKey(0) \n",
    "\n",
    "cv2.imshow(\"blue\", B) \n",
    "cv2.waitKey(0) \n",
    "\n",
    "cv2.imshow(\"Green\", G) \n",
    "cv2.waitKey(0) \n",
    "\n",
    "cv2.imshow(\"red\", R) \n",
    "cv2.waitKey(0) \n",
    "\n",
    "cv2.destroyAllWindows()"
   ]
  },
  {
   "cell_type": "markdown",
   "metadata": {},
   "source": [
    "### Addition of Image:"
   ]
  },
  {
   "cell_type": "code",
   "execution_count": null,
   "metadata": {},
   "outputs": [],
   "source": [
    "img=cv2.imread('bmw2.png')\n",
    "img2=cv2.imread('bmw.png')\n",
    "\n",
    "weightedSum = cv2.add(img,img2) \n",
    "cv2.imshow('Weighted Image', weightedSum) \n",
    "if cv2.waitKey(0) & 0xff == 27:  \n",
    "    cv2.destroyAllWindows() "
   ]
  },
  {
   "cell_type": "markdown",
   "metadata": {},
   "source": [
    "### Subtraction of Image:"
   ]
  },
  {
   "cell_type": "code",
   "execution_count": null,
   "metadata": {},
   "outputs": [],
   "source": [
    "img=cv2.imread('bmw2.png')\n",
    "img2=cv2.imread('bmw.png')\n",
    "\n",
    "weightedsub = cv2.subtract(img,img2) \n",
    "cv2.imshow('Weighted Image', weightedsub) \n",
    "  \n",
    " \n",
    "if cv2.waitKey(0) & 0xff == 27:  \n",
    "    cv2.destroyAllWindows() "
   ]
  },
  {
   "cell_type": "markdown",
   "metadata": {},
   "source": [
    "### arithmetic operation"
   ]
  },
  {
   "cell_type": "code",
   "execution_count": null,
   "metadata": {},
   "outputs": [],
   "source": [
    "img1=cv2.imread(r'D:\\University\\BSAI-4th semester\\Programming for AI (Lab)\\Assignments\\Lab 5 task\\circle_.png')\n",
    "img2=cv2.imread(r'D:\\University\\BSAI-4th semester\\Programming for AI (Lab)\\Assignments\\Lab 5 task\\Circle.png')\n",
    "\n",
    "dest_and = cv2.bitwise_and(img2, img1, mask = None) \n",
    "  \n",
    "\n",
    "cv2.imshow('Bitwise And', dest_and) \n",
    "   \n",
    " \n",
    "if cv2.waitKey(0) & 0xff == 27:  \n",
    "    cv2.destroyAllWindows()"
   ]
  },
  {
   "cell_type": "markdown",
   "metadata": {},
   "source": [
    "### OR"
   ]
  },
  {
   "cell_type": "code",
   "execution_count": null,
   "metadata": {},
   "outputs": [],
   "source": [
    "img1=cv2.imread(r'D:\\University\\BSAI-4th semester\\Programming for AI (Lab)\\Assignments\\Lab 5 task\\circle_.png')\n",
    "img2=cv2.imread(r'D:\\University\\BSAI-4th semester\\Programming for AI (Lab)\\Assignments\\Lab 5 task\\Circle.png')\n",
    "\n",
    "dest_or = cv2.bitwise_or(img2, img1, mask = None) \n",
    "  \n",
    "\n",
    "cv2.imshow('Bitwise And', dest_or) \n",
    "   \n",
    " \n",
    "if cv2.waitKey(0) & 0xff == 27:  \n",
    "    cv2.destroyAllWindows()"
   ]
  },
  {
   "cell_type": "markdown",
   "metadata": {},
   "source": [
    "### XOR"
   ]
  },
  {
   "cell_type": "code",
   "execution_count": null,
   "metadata": {},
   "outputs": [],
   "source": [
    "img1=cv2.imread(r'D:\\University\\BSAI-4th semester\\Programming for AI (Lab)\\Assignments\\Lab 5 task\\circle_.png')\n",
    "img2=cv2.imread(r'D:\\University\\BSAI-4th semester\\Programming for AI (Lab)\\Assignments\\Lab 5 task\\Circle.png')\n",
    "\n",
    "dest_xor = cv2.bitwise_xor(img1, img2, mask = None)   \n",
    "\n",
    "cv2.imshow('Bitwise And', dest_xor) \n",
    "   \n",
    " \n",
    "if cv2.waitKey(0) & 0xff == 27:  \n",
    "    cv2.destroyAllWindows()"
   ]
  },
  {
   "cell_type": "markdown",
   "metadata": {},
   "source": [
    "### NOT"
   ]
  },
  {
   "cell_type": "code",
   "execution_count": null,
   "metadata": {},
   "outputs": [],
   "source": [
    "img1=cv2.imread(r'D:\\University\\BSAI-4th semester\\Programming for AI (Lab)\\Assignments\\Lab 5 task\\circle_.png')\n",
    "img2=cv2.imread(r'D:\\University\\BSAI-4th semester\\Programming for AI (Lab)\\Assignments\\Lab 5 task\\Circle.png')\n",
    "\n",
    "dest_not1 = cv2.bitwise_not(img1, mask = None) \n",
    "dest_not2 = cv2.bitwise_not(img2, mask = None) \n",
    "  \n",
    "\n",
    "cv2.imshow('Bitwise NOT on image 1', dest_not1) \n",
    "cv2.imshow('Bitwise NOT on image 2', dest_not2) \n",
    "   \n",
    "   \n",
    "if cv2.waitKey(0) & 0xff == 27:  \n",
    "    cv2.destroyAllWindows() "
   ]
  },
  {
   "cell_type": "markdown",
   "metadata": {},
   "source": [
    "# 2.2 Image Processing"
   ]
  },
  {
   "cell_type": "markdown",
   "metadata": {},
   "source": [
    "###  Resize the image"
   ]
  },
  {
   "cell_type": "code",
   "execution_count": null,
   "metadata": {},
   "outputs": [],
   "source": [
    "image = cv2.imread(r'D:\\University\\BSAI-4th semester\\Programming for AI (Lab)\\Assignments\\Lab 5 task\\circle_.png')\n",
    "\n",
    "\n",
    "resized_image = cv2.resize(image, (500, 500))\n",
    "cv2.imshow('image',resized_image) \n",
    "   \n",
    "cv2.waitKey(0) \n",
    "\n",
    "cv2.destroyAllWindows()\n"
   ]
  },
  {
   "cell_type": "markdown",
   "metadata": {},
   "source": [
    "### bluring"
   ]
  },
  {
   "cell_type": "code",
   "execution_count": null,
   "metadata": {},
   "outputs": [],
   "source": [
    "r_image = cv2.imread(r'D:\\University\\BSAI-4th semester\\Programming for AI (Lab)\\Assignments\\Lab 5 task\\circle_.png')\n",
    "\n",
    "# Resize the image\n",
    "image = cv2.resize(r_image, (500, 500))\n",
    "Gaussian = cv2.GaussianBlur(image, (7, 7), 0) \n",
    "cv2.imshow('Gaussian Blurring', Gaussian) \n",
    "cv2.waitKey(0) \n",
    "\n",
    "\n",
    "cv2.destroyAllWindows()"
   ]
  },
  {
   "cell_type": "markdown",
   "metadata": {},
   "source": [
    "### Bordering"
   ]
  },
  {
   "cell_type": "code",
   "execution_count": null,
   "metadata": {},
   "outputs": [],
   "source": [
    "r_image = cv2.imread(r'D:\\University\\BSAI-4th semester\\Programming for AI (Lab)\\Assignments\\Lab 5 task\\circle_.png')\n",
    "\n",
    "# Resize\n",
    "image = cv2.resize(r_image, (500, 500))\n",
    "\n",
    "window_name = 'Image'\n",
    "\n",
    "image = cv2.copyMakeBorder(image, 10, 100, 50, 10, cv2.BORDER_REFLECT) \n",
    "cv2.imshow(window_name, image)\n",
    "\n",
    "\n",
    "cv2.waitKey(0) \n",
    "\n",
    "\n",
    "cv2.destroyAllWindows()\n"
   ]
  },
  {
   "cell_type": "markdown",
   "metadata": {},
   "source": [
    "### denoising of image saving it into dst image "
   ]
  },
  {
   "cell_type": "code",
   "execution_count": null,
   "metadata": {},
   "outputs": [],
   "source": [
    "image = cv2.imread(r'D:\\University\\BSAI-4th semester\\Programming for AI (Lab)\\Assignments\\Lab 5 task\\bmw2.png')\n",
    "dst = cv2.fastNlMeansDenoisingColored(image, None, 10, 10, 7, 15) \n",
    "  \n",
    "# Plotting of source and destination image \n",
    "plt.subplot(121), plt.imshow(image) \n",
    "plt.subplot(122), plt.imshow(dst) \n",
    "  \n",
    "plt.show() \n",
    "\n",
    "cv2.waitKey(0) \n",
    "\n",
    "\n",
    "cv2.destroyAllWindows()"
   ]
  },
  {
   "cell_type": "markdown",
   "metadata": {},
   "source": [
    "### Find Co-ordinates of Contours"
   ]
  },
  {
   "cell_type": "code",
   "execution_count": null,
   "metadata": {},
   "outputs": [],
   "source": [
    "image=r'D:\\University\\BSAI-4th semester\\Programming for AI (Lab)\\Assignments\\Lab 5 task\\BOX.png'\n",
    "\n",
    "# Reading image \n",
    "font = cv2.FONT_HERSHEY_COMPLEX \n",
    "img2 = cv2.imread(image, cv2.IMREAD_COLOR) \n",
    "   \n",
    "img = cv2.imread(image, cv2.IMREAD_GRAYSCALE) \n",
    "  \n",
    "\n",
    "_, threshold = cv2.threshold(img, 110, 255, cv2.THRESH_BINARY) \n",
    "  \n",
    "\n",
    "contours, _= cv2.findContours(threshold, cv2.RETR_TREE,cv2.CHAIN_APPROX_SIMPLE) \n",
    "\n",
    "for cnt in contours : \n",
    "  \n",
    "    approx = cv2.approxPolyDP(cnt, 0.009 * cv2.arcLength(cnt, True), True) \n",
    "  \n",
    "    \n",
    "    cv2.drawContours(img2, [approx], 0, (0, 0, 255), 5)  \n",
    "  \n",
    "    n = approx.ravel()  \n",
    "    i = 0\n",
    "  \n",
    "    for j in n : \n",
    "        if(i % 2 == 0): \n",
    "            x = n[i] \n",
    "            y = n[i + 1] \n",
    "  \n",
    "            \n",
    "            string = str(x) + \" \" + str(y)  \n",
    "  \n",
    "            if(i == 0): \n",
    "                 \n",
    "                cv2.putText(img2, \"Arrow tip\", (x, y), \n",
    "                                font, 0.5, (255, 0, 0))  \n",
    "            else: \n",
    "                 \n",
    "                cv2.putText(img2, string, (x, y),  \n",
    "                          font, 0.5, (0, 255, 0))  \n",
    "        i = i + 1\n",
    "  \n",
    "\n",
    "cv2.imshow('image2', img2)   \n",
    "if cv2.waitKey(0) & 0xFF == ord('q'):  \n",
    "    cv2.destroyAllWindows() \n",
    "\n",
    "plt.show() \n",
    "\n",
    "cv2.waitKey(0) \n",
    "\n",
    "\n",
    "cv2.destroyAllWindows()"
   ]
  },
  {
   "cell_type": "markdown",
   "metadata": {},
   "source": [
    "### lines detection"
   ]
  },
  {
   "cell_type": "code",
   "execution_count": null,
   "metadata": {},
   "outputs": [],
   "source": [
    "image = cv2.imread(r'D:\\University\\BSAI-4th semester\\Programming for AI (Lab)\\Assignments\\Lab 5 task\\BOX.png')\n",
    "\n",
    "\n",
    "gray = cv2.cvtColor(image, cv2.COLOR_BGR2GRAY)\n",
    "edges = cv2.Canny(gray, 50, 150)\n",
    "lines = cv2.HoughLinesP(edges, 1, np.pi/180, threshold=100, minLineLength=50, maxLineGap=5)\n",
    "\n",
    "# Draw lines on the image\n",
    "if lines is not None:\n",
    "    for line in lines:\n",
    "        x1, y1, x2, y2 = line[0]\n",
    "        cv2.line(image, (x1, y1), (x2, y2), (0, 255, 0), 2)\n",
    "\n",
    "cv2.imshow(\"Lines\", image)\n",
    "cv2.waitKey(0)\n",
    "cv2.destroyAllWindows()\n",
    "\n"
   ]
  },
  {
   "cell_type": "markdown",
   "metadata": {},
   "source": [
    "### Circle Detection"
   ]
  },
  {
   "cell_type": "code",
   "execution_count": null,
   "metadata": {},
   "outputs": [],
   "source": [
    "img = cv2.imread(r'D:\\University\\BSAI-4th semester\\Programming for AI (Lab)\\Assignments\\Lab 5 task\\bmw.png')\n",
    "\n",
    "\n",
    "\n",
    "gray = cv2.cvtColor(img, cv2.COLOR_BGR2GRAY)\n",
    "circles = cv2.HoughCircles(gray, cv2.HOUGH_GRADIENT, dp=1.2, minDist=30, param1=50, param2=30, minRadius=10, maxRadius=100)\n",
    "if circles is not None:\n",
    "    circles = np.uint16(np.around(circles))\n",
    "    for circle in circles[0, :]:\n",
    "        x, y, r = circle\n",
    "        cv2.circle(img, (x, y), r, (0, 255, 0), 2) \n",
    "        cv2.circle(img, (x, y), 2, (0, 0, 255), 3)  \n",
    "\n",
    "cv2.imshow(\"Circles\", img)\n",
    "cv2.waitKey(0)\n",
    "cv2.destroyAllWindows()\n"
   ]
  },
  {
   "cell_type": "markdown",
   "metadata": {},
   "source": [
    "### corner detection"
   ]
  },
  {
   "cell_type": "code",
   "execution_count": null,
   "metadata": {},
   "outputs": [],
   "source": [
    "img = cv2.imread(r'D:\\University\\BSAI-4th semester\\Programming for AI (Lab)\\Assignments\\Lab 5 task\\BOX.png')\n",
    "gray = cv2.cvtColor(img, cv2.COLOR_BGR2GRAY) \n",
    "corners = cv2.goodFeaturesToTrack(gray, 27, 0.01, 10) \n",
    "corners = np.int16(corners)  \n",
    "for i in corners: \n",
    "    x, y = i.ravel() \n",
    "    cv2.circle(img, (x, y), 3, 255, -1) \n",
    "  \n",
    "plt.imshow(img), plt.show() \n",
    "cv2.waitKey(0)\n",
    "cv2.destroyAllWindows()"
   ]
  },
  {
   "cell_type": "markdown",
   "metadata": {},
   "source": [
    "### Drawing line"
   ]
  },
  {
   "cell_type": "code",
   "execution_count": null,
   "metadata": {},
   "outputs": [],
   "source": [
    "image = cv2.imread(r'D:\\University\\BSAI-4th semester\\Programming for AI (Lab)\\Assignments\\Lab 5 task\\BOX.png')\n",
    "\n",
    "window_name = 'Image'\n",
    "start_point = (0, 0)\n",
    "end_point = (250, 250)\n",
    "color = (0, 255, 0)\n",
    "thickness = 9\n",
    "image = cv2.line(image, start_point, end_point, color, thickness)\n",
    "cv2.imshow(window_name, image) \n",
    "  \n",
    "\n",
    "cv2.waitKey(0)\n",
    "cv2.destroyAllWindows()"
   ]
  },
  {
   "cell_type": "markdown",
   "metadata": {},
   "source": [
    "### draw cricle"
   ]
  },
  {
   "cell_type": "code",
   "execution_count": null,
   "metadata": {},
   "outputs": [],
   "source": [
    "image = cv2.imread(r'D:\\University\\BSAI-4th semester\\Programming for AI (Lab)\\Assignments\\Lab 5 task\\BOX.png')\n",
    "window_name = 'Image' \n",
    "center_coordinates = (220, 150) \n",
    "radius = 100\n",
    "color = (255, 133, 233)  \n",
    "thickness = -1\n",
    "image = cv2.circle(image, center_coordinates, radius, color, thickness) \n",
    "    \n",
    "# Displaying the image \n",
    "cv2.imshow(window_name, image) \n",
    "cv2.waitKey(0) \n",
    "cv2.destroyAllWindows()"
   ]
  },
  {
   "cell_type": "markdown",
   "metadata": {},
   "source": [
    "### play video"
   ]
  },
  {
   "cell_type": "code",
   "execution_count": null,
   "metadata": {},
   "outputs": [],
   "source": [
    "cap = cv2.VideoCapture('video.mp4')\n",
    "if (cap.isOpened()== False):\n",
    "    print(\"Error opening video file\")\n",
    "while(cap.isOpened()):\n",
    "    \n",
    "    ret, frame = cap.read()\n",
    "    if ret == True:\n",
    "        cv2.imshow('Frame', frame)\n",
    "        if cv2.waitKey(25) & 0xFF == ord('q'):\n",
    "            break\n",
    "    else:\n",
    "        break\n",
    "cap.release()\n",
    "cv2.destroyAllWindows()"
   ]
  }
 ],
 "metadata": {
  "kernelspec": {
   "display_name": "Python 3",
   "language": "python",
   "name": "python3"
  },
  "language_info": {
   "codemirror_mode": {
    "name": "ipython",
    "version": 3
   },
   "file_extension": ".py",
   "mimetype": "text/x-python",
   "name": "python",
   "nbconvert_exporter": "python",
   "pygments_lexer": "ipython3",
   "version": "3.12.9"
  }
 },
 "nbformat": 4,
 "nbformat_minor": 2
}
